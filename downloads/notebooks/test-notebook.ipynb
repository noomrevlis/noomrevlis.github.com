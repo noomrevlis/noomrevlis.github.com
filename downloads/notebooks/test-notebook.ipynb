{
 "metadata": {
  "name": "",
  "signature": "sha256:47e53d1e7762f90079dcbe28552c71f9a5af73840d69638097ac3990882f8858"
 },
 "nbformat": 3,
 "nbformat_minor": 0,
 "worksheets": [
  {
   "cells": [
    {
     "cell_type": "code",
     "collapsed": false,
     "input": [
      "from IPython.display import Image\n",
      "Image(url='http://www.blackice.com/images/RGB_Cube.jpg')"
     ],
     "language": "python",
     "metadata": {},
     "outputs": [
      {
       "html": [
        "<img src=\"http://www.blackice.com/images/RGB_Cube.jpg\"/>"
       ],
       "metadata": {},
       "output_type": "pyout",
       "prompt_number": 2,
       "text": [
        "<IPython.core.display.Image at 0x1045683d0>"
       ]
      }
     ],
     "prompt_number": 2
    }
   ],
   "metadata": {}
  }
 ]
}